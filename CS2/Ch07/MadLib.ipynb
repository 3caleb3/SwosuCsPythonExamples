{
 "cells": [
  {
   "cell_type": "code",
   "execution_count": 1,
   "id": "701ba9cc-abec-4acc-a44a-f2a124348f2e",
   "metadata": {},
   "outputs": [
    {
     "data": {
      "text/plain": [
       "'\\nMad Libs are activities that have a person provide various words, which are then used to complete a short story in unexpected (and hopefully funny) ways.\\n\\nWrite a program that takes a string and an integer as input, and outputs a sentence using the input values as shown in the example below. The program repeats until the input string is quit and disregards the integer input that follows.\\n\\nEx: If the input is:\\n\\napples 5\\nshoes 2\\nquit 0\\nthe output is:\\n\\nEating 5 apples a day keeps the doctor away.\\nEating 2 shoes a day keeps the doctor away.\\n'"
      ]
     },
     "execution_count": 1,
     "metadata": {},
     "output_type": "execute_result"
    }
   ],
   "source": [
    "\"\"\"\n",
    "Mad Libs are activities that have a person provide various words, \n",
    "which are then used to complete a short story in unexpected (and hopefully funny) ways.\n",
    "\n",
    "Write a program that takes a string and an integer as input, \n",
    "and outputs a sentence using the input values as shown in the example below. \n",
    "The program repeats until the input string is quit and disregards the integer input that follows.\n",
    "\n",
    "Ex: If the input is:\n",
    "\n",
    "apples 5\n",
    "shoes 2\n",
    "quit 0\n",
    "the output is:\n",
    "\n",
    "Eating 5 apples a day keeps the doctor away.\n",
    "Eating 2 shoes a day keeps the doctor away.\n",
    "\"\"\""
   ]
  },
  {
   "cell_type": "code",
   "execution_count": 2,
   "id": "6f080676-9ec6-4a93-af2e-a46253dc6eae",
   "metadata": {},
   "outputs": [
    {
     "name": "stdin",
     "output_type": "stream",
     "text": [
      " apples 5\n"
     ]
    },
    {
     "name": "stdout",
     "output_type": "stream",
     "text": [
      "Eating 5 apples a day keeps the doctor away.\n"
     ]
    },
    {
     "name": "stdin",
     "output_type": "stream",
     "text": [
      " heads of garlic 6\n"
     ]
    },
    {
     "name": "stdout",
     "output_type": "stream",
     "text": [
      "Eating of heads a day keeps the doctor away.\n"
     ]
    },
    {
     "name": "stdin",
     "output_type": "stream",
     "text": [
      " quit\n"
     ]
    }
   ],
   "source": [
    "user_input = input()\n",
    "tokens = user_input.split()\n",
    "\n",
    "while tokens[0] != \"quit\":\n",
    "    print (f'Eating {tokens[1]} {tokens[0]} a day keeps the doctor away.')\n",
    "    user_input = input()\n",
    "    tokens = user_input.split()"
   ]
  },
  {
   "cell_type": "code",
   "execution_count": null,
   "id": "b0fda68f-52a5-427b-a14d-389838ceba09",
   "metadata": {},
   "outputs": [],
   "source": []
  }
 ],
 "metadata": {
  "kernelspec": {
   "display_name": "Python 3 (ipykernel)",
   "language": "python",
   "name": "python3"
  },
  "language_info": {
   "codemirror_mode": {
    "name": "ipython",
    "version": 3
   },
   "file_extension": ".py",
   "mimetype": "text/x-python",
   "name": "python",
   "nbconvert_exporter": "python",
   "pygments_lexer": "ipython3",
   "version": "3.9.7"
  }
 },
 "nbformat": 4,
 "nbformat_minor": 5
}
