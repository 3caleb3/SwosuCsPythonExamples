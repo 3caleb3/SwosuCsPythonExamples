{
 "cells": [
  {
   "cell_type": "code",
   "execution_count": 2,
   "id": "2e796ef7",
   "metadata": {},
   "outputs": [
    {
     "data": {
      "text/plain": [
       "' \\n1.14 LAB: Formatted output: Hello World!\\nWrite a program that outputs \"Hello World!\" \\nFor ALL labs, end with newline (unless otherwise stated).\\nI don\\'t want this printed.\\nI want this to only be a comment.\\n'"
      ]
     },
     "execution_count": 2,
     "metadata": {},
     "output_type": "execute_result"
    }
   ],
   "source": [
    "\"\"\" \n",
    "1.14 LAB: Formatted output: Hello World!\n",
    "Write a program that outputs \"Hello World!\" \n",
    "For ALL labs, end with newline (unless otherwise stated).\n",
    "I don't want this printed.\n",
    "I want this to only be a comment.\n",
    "\"\"\""
   ]
  },
  {
   "cell_type": "code",
   "execution_count": 4,
   "id": "d2e74001",
   "metadata": {},
   "outputs": [
    {
     "name": "stdout",
     "output_type": "stream",
     "text": [
      "Hello World!\n",
      "\n",
      "programming is fun\n",
      "\n",
      " \n",
      " \n",
      " there are 3 returns at the start of this line.\n"
     ]
    }
   ],
   "source": [
    "# python will ignore this.\n",
    "print('Hello World!')\n",
    "print()\n",
    "print('programming is fun')\n",
    "print('\\n \\n \\n there are 3 returns at the start of this line.')"
   ]
  },
  {
   "cell_type": "code",
   "execution_count": null,
   "id": "44ac8c9a",
   "metadata": {},
   "outputs": [],
   "source": [
    "\"\"\"\n",
    "1.15 LAB: Formatted output: No parking sign\n",
    "Write a program that prints a formatted \"No parking\" sign as shown below. Note the first line has two leading spaces. For ALL labs, end with newline (unless otherwise stated).\n",
    "\n",
    "NO PARKING\n",
    "2:00 - 6:00 a.m.\n",
    "\"\"\""
   ]
  },
  {
   "cell_type": "code",
   "execution_count": 7,
   "id": "93032e9e",
   "metadata": {},
   "outputs": [
    {
     "name": "stdout",
     "output_type": "stream",
     "text": [
      "NO PARKING\n",
      "2:00 - 6:00 a.m.\n",
      "Except for the dude. \n"
     ]
    }
   ],
   "source": [
    "print('NO PARKING')\n",
    "print('2:00 - 6:00 a.m.')\n",
    "print('Except for the dude. ')"
   ]
  },
  {
   "cell_type": "code",
   "execution_count": 5,
   "id": "5e4862a0",
   "metadata": {},
   "outputs": [
    {
     "data": {
      "text/plain": [
       "\"\\n1.16 LAB: Input: Welcome message\\nEdit lab\\n\\nNote\\nWrite a program that takes a first name as the input, and outputs a welcome message to that name.\\n\\nEx: If the input is Pat, the output is:\\n\\nHello Pat and welcome to CS Online!\\n\\ncode from book:\\nuser_name = input()\\n\\n''' Type your code here. '''\\n\""
      ]
     },
     "execution_count": 5,
     "metadata": {},
     "output_type": "execute_result"
    }
   ],
   "source": [
    "\"\"\"\n",
    "1.16 LAB: Input: Welcome message\n",
    "Edit lab\n",
    "\n",
    "Note\n",
    "Write a program that takes a first name as the input, and outputs a welcome message to that name.\n",
    "\n",
    "Ex: If the input is Pat, the output is:\n",
    "\n",
    "Hello Pat and welcome to CS Online!\n",
    "\n",
    "code from book:\n",
    "user_name = input()\n",
    "\n",
    "''' Type your code here. '''\n",
    "\"\"\""
   ]
  },
  {
   "cell_type": "code",
   "execution_count": 7,
   "id": "e57bf81a",
   "metadata": {},
   "outputs": [
    {
     "name": "stdout",
     "output_type": "stream",
     "text": [
      "please enter your name.Pat\n",
      "Hello Pat and welcome to CS Online!\n"
     ]
    }
   ],
   "source": [
    "user_name = input('please enter your name.')\n",
    "print('Hello', user_name, 'and welcome to CS Online!')"
   ]
  },
  {
   "cell_type": "code",
   "execution_count": 8,
   "id": "d48f5965",
   "metadata": {},
   "outputs": [
    {
     "name": "stdout",
     "output_type": "stream",
     "text": [
      "Pat\n",
      "Hello Pat and welcome to CS Online!\n"
     ]
    }
   ],
   "source": [
    "user_name = input()\n",
    "\n",
    "''' Type your code here. '''\n",
    "print('Hello', user_name, 'and welcome to CS Online!')"
   ]
  },
  {
   "cell_type": "code",
   "execution_count": 12,
   "id": "fb813249",
   "metadata": {},
   "outputs": [
    {
     "name": "stdout",
     "output_type": "stream",
     "text": [
      "please enter your name.Jeremyh\n",
      "Hello Jeremyh and welcome to CS Online!\n",
      "Where does the name Jeremyh come from?\n",
      "My mom and dad\n",
      "Really? My mom and dad ...\n",
      "now I have seen everything...\n"
     ]
    }
   ],
   "source": [
    "user_name = input('please enter your name.')\n",
    "\n",
    "''' Type your code here. '''\n",
    "print('Hello', user_name, 'and welcome to CS Online!')\n",
    "print('Where does the name', user_name, 'come from?')\n",
    "origin_story = input()\n",
    "print('Really?', origin_story, '...')\n",
    "print('now I have seen everything...')"
   ]
  },
  {
   "cell_type": "code",
   "execution_count": 14,
   "id": "362ca41b",
   "metadata": {},
   "outputs": [],
   "source": [
    "# Python tkinter hello world program\n",
    "\n",
    "from tkinter import *\n",
    "\n",
    "root = Tk()\n",
    "a = Label(root, text =\"Hello World\")\n",
    "a.pack()\n",
    "\n",
    "root.mainloop()"
   ]
  },
  {
   "cell_type": "code",
   "execution_count": null,
   "id": "18362a63",
   "metadata": {},
   "outputs": [],
   "source": []
  }
 ],
 "metadata": {
  "kernelspec": {
   "display_name": "Python 3",
   "language": "python",
   "name": "python3"
  },
  "language_info": {
   "codemirror_mode": {
    "name": "ipython",
    "version": 3
   },
   "file_extension": ".py",
   "mimetype": "text/x-python",
   "name": "python",
   "nbconvert_exporter": "python",
   "pygments_lexer": "ipython3",
   "version": "3.8.8"
  }
 },
 "nbformat": 4,
 "nbformat_minor": 5
}
