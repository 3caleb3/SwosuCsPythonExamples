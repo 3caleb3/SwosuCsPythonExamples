{
 "cells": [
  {
   "cell_type": "code",
   "execution_count": 2,
   "id": "ce7d79c5",
   "metadata": {},
   "outputs": [
    {
     "data": {
      "text/plain": [
       "' \\n1.14 LAB: Formatted output: Hello World!\\nWrite a program that outputs \"Hello World!\" For ALL labs, end with newline (unless otherwise stated).\\n'"
      ]
     },
     "execution_count": 2,
     "metadata": {},
     "output_type": "execute_result"
    }
   ],
   "source": [
    "\"\"\" \n",
    "1.14 LAB: Formatted output: Hello World!\n",
    "Write a program that outputs \"Hello World!\" For ALL labs, end with newline (unless otherwise stated).\n",
    "\"\"\""
   ]
  },
  {
   "cell_type": "code",
   "execution_count": 3,
   "id": "6d0871aa",
   "metadata": {},
   "outputs": [
    {
     "name": "stdout",
     "output_type": "stream",
     "text": [
      "Hello World!\n"
     ]
    }
   ],
   "source": [
    "print('Hello World!')"
   ]
  },
  {
   "cell_type": "code",
   "execution_count": null,
   "id": "1f054a62",
   "metadata": {},
   "outputs": [],
   "source": [
    "\"\"\"\n",
    "1.15 LAB: Formatted output: No parking sign\n",
    "Write a program that prints a formatted \"No parking\" sign as shown below. Note the first line has two leading spaces. For ALL labs, end with newline (unless otherwise stated).\n",
    "\n",
    "NO PARKING\n",
    "2:00 - 6:00 a.m.\n",
    "\"\"\""
   ]
  },
  {
   "cell_type": "code",
   "execution_count": 4,
   "id": "3226cb6a",
   "metadata": {},
   "outputs": [
    {
     "name": "stdout",
     "output_type": "stream",
     "text": [
      "NO PARKING\n",
      "2:00 - 6:00 a.m.\n"
     ]
    }
   ],
   "source": [
    "print('NO PARKING')\n",
    "print('2:00 - 6:00 a.m.')"
   ]
  },
  {
   "cell_type": "code",
   "execution_count": 5,
   "id": "3b89ccf2",
   "metadata": {},
   "outputs": [
    {
     "data": {
      "text/plain": [
       "\"\\n1.16 LAB: Input: Welcome message\\nEdit lab\\n\\nNote\\nWrite a program that takes a first name as the input, and outputs a welcome message to that name.\\n\\nEx: If the input is Pat, the output is:\\n\\nHello Pat and welcome to CS Online!\\n\\ncode from book:\\nuser_name = input()\\n\\n''' Type your code here. '''\\n\""
      ]
     },
     "execution_count": 5,
     "metadata": {},
     "output_type": "execute_result"
    }
   ],
   "source": [
    "\"\"\"\n",
    "1.16 LAB: Input: Welcome message\n",
    "Edit lab\n",
    "\n",
    "Note\n",
    "Write a program that takes a first name as the input, and outputs a welcome message to that name.\n",
    "\n",
    "Ex: If the input is Pat, the output is:\n",
    "\n",
    "Hello Pat and welcome to CS Online!\n",
    "\n",
    "code from book:\n",
    "user_name = input()\n",
    "\n",
    "''' Type your code here. '''\n",
    "\"\"\""
   ]
  },
  {
   "cell_type": "code",
   "execution_count": 6,
   "id": "311a4e0f",
   "metadata": {},
   "outputs": [
    {
     "ename": "SyntaxError",
     "evalue": "invalid syntax (<ipython-input-6-73997f29cdf2>, line 2)",
     "output_type": "error",
     "traceback": [
      "\u001b[1;36m  File \u001b[1;32m\"<ipython-input-6-73997f29cdf2>\"\u001b[1;36m, line \u001b[1;32m2\u001b[0m\n\u001b[1;33m    print('Hello', user_name, and welcome to CS Online!'')\u001b[0m\n\u001b[1;37m                              ^\u001b[0m\n\u001b[1;31mSyntaxError\u001b[0m\u001b[1;31m:\u001b[0m invalid syntax\n"
     ]
    }
   ],
   "source": [
    "user_name = input('please enter your name.')\n",
    "print('Hello', user_name, 'and welcome to CS Online!')"
   ]
  },
  {
   "cell_type": "code",
   "execution_count": null,
   "id": "d6e0e51c",
   "metadata": {},
   "outputs": [],
   "source": []
  }
 ],
 "metadata": {
  "kernelspec": {
   "display_name": "Python 3",
   "language": "python",
   "name": "python3"
  },
  "language_info": {
   "codemirror_mode": {
    "name": "ipython",
    "version": 3
   },
   "file_extension": ".py",
   "mimetype": "text/x-python",
   "name": "python",
   "nbconvert_exporter": "python",
   "pygments_lexer": "ipython3",
   "version": "3.8.8"
  }
 },
 "nbformat": 4,
 "nbformat_minor": 5
}
