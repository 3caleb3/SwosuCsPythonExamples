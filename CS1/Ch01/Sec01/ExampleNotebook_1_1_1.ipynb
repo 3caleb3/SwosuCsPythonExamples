{
 "cells": [
  {
   "cell_type": "code",
   "execution_count": 3,
   "id": "9bd37a92",
   "metadata": {},
   "outputs": [],
   "source": [
    "x = 3"
   ]
  },
  {
   "cell_type": "code",
   "execution_count": 4,
   "id": "aedde586",
   "metadata": {},
   "outputs": [],
   "source": [
    "y = 5"
   ]
  },
  {
   "cell_type": "code",
   "execution_count": 5,
   "id": "8fe952a2",
   "metadata": {},
   "outputs": [],
   "source": [
    "z = x + y"
   ]
  },
  {
   "cell_type": "code",
   "execution_count": 6,
   "id": "77f9ed1f",
   "metadata": {},
   "outputs": [
    {
     "name": "stdout",
     "output_type": "stream",
     "text": [
      "8\n"
     ]
    }
   ],
   "source": [
    "print(z)"
   ]
  },
  {
   "cell_type": "code",
   "execution_count": 7,
   "id": "6802fffa",
   "metadata": {},
   "outputs": [],
   "source": [
    "# There should not be anything past this."
   ]
  },
  {
   "cell_type": "code",
   "execution_count": 8,
   "id": "0ecf32a3",
   "metadata": {},
   "outputs": [
    {
     "name": "stdout",
     "output_type": "stream",
     "text": [
      "7\n"
     ]
    }
   ],
   "source": [
    "number1 = 2\n",
    "number2 = 5\n",
    "number3 = number1 + number2\n",
    "print(number3)"
   ]
  },
  {
   "cell_type": "code",
   "execution_count": 9,
   "id": "06f3d686",
   "metadata": {},
   "outputs": [
    {
     "name": "stdout",
     "output_type": "stream",
     "text": [
      "34\n"
     ]
    }
   ],
   "source": [
    "# adding more comments.\n",
    "z = x * x + y * y\n",
    "print( z )"
   ]
  },
  {
   "cell_type": "code",
   "execution_count": null,
   "id": "2f08460d",
   "metadata": {},
   "outputs": [],
   "source": []
  },
  {
   "cell_type": "code",
   "execution_count": null,
   "id": "91eab1ce",
   "metadata": {},
   "outputs": [],
   "source": []
  }
 ],
 "metadata": {
  "kernelspec": {
   "display_name": "Python 3",
   "language": "python",
   "name": "python3"
  },
  "language_info": {
   "codemirror_mode": {
    "name": "ipython",
    "version": 3
   },
   "file_extension": ".py",
   "mimetype": "text/x-python",
   "name": "python",
   "nbconvert_exporter": "python",
   "pygments_lexer": "ipython3",
   "version": "3.8.8"
  }
 },
 "nbformat": 4,
 "nbformat_minor": 5
}
