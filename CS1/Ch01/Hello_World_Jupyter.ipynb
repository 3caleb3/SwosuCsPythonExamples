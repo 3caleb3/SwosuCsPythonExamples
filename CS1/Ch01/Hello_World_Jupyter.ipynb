{
 "cells": [
  {
   "cell_type": "code",
   "execution_count": 1,
   "id": "2fa1d711",
   "metadata": {},
   "outputs": [
    {
     "name": "stdout",
     "output_type": "stream",
     "text": [
      "This is in Jupyter Notebook.\n"
     ]
    }
   ],
   "source": [
    "print(\"This is in Jupyter Notebook.\")"
   ]
  },
  {
   "cell_type": "code",
   "execution_count": 2,
   "id": "2515e984",
   "metadata": {},
   "outputs": [
    {
     "name": "stdout",
     "output_type": "stream",
     "text": [
      "Hello, World!\n",
      "Programming is fun.\n",
      "Choose your own adventure game ideas.\n",
      "This was added using nano.\n",
      "We typed this line back in Atom...\n",
      "Hello from Visual Studio Code.\n",
      "Hello from Notepad Plus Plus.\n",
      "This was visual studio code opened from Anaconda.\n",
      "This was added with Spyder inside Anacond.\n",
      "THis is just a print statement.kjh;aewkfjhdj\n"
     ]
    }
   ],
   "source": [
    "print(\"Hello, World!\")\n",
    "\n",
    "print(\"Programming is fun.\")\n",
    "\n",
    "print(\"Choose your own adventure game ideas.\")\n",
    "\n",
    "print(\"This was added using nano.\")\n",
    "\n",
    "print(\"We typed this line back in Atom...\")\n",
    "\n",
    "print(\"Hello from Visual Studio Code.\")\n",
    "\n",
    "print(\"Hello from Notepad Plus Plus.\")\n",
    "\n",
    "print(\"This was visual studio code opened from Anaconda.\")\n",
    "\n",
    "print(\"This was added with Spyder inside Anacond.\")\n",
    "\n",
    "print(\"THis is just a print statement.kjh;aewkfjhdj\")"
   ]
  },
  {
   "cell_type": "code",
   "execution_count": null,
   "id": "fc2dcb4a",
   "metadata": {},
   "outputs": [],
   "source": []
  },
  {
   "cell_type": "code",
   "execution_count": null,
   "id": "e695bef7",
   "metadata": {},
   "outputs": [],
   "source": []
  }
 ],
 "metadata": {
  "kernelspec": {
   "display_name": "Python 3 (ipykernel)",
   "language": "python",
   "name": "python3"
  },
  "language_info": {
   "codemirror_mode": {
    "name": "ipython",
    "version": 3
   },
   "file_extension": ".py",
   "mimetype": "text/x-python",
   "name": "python",
   "nbconvert_exporter": "python",
   "pygments_lexer": "ipython3",
   "version": "3.9.12"
  }
 },
 "nbformat": 4,
 "nbformat_minor": 5
}
