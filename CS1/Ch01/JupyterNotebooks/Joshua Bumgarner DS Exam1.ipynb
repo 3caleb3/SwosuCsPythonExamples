{
 "cells": [
  {
   "cell_type": "code",
   "execution_count": 27,
   "id": "9437046d-915e-4cfd-8ce0-498a49f2714d",
   "metadata": {},
   "outputs": [
    {
     "name": "stdout",
     "output_type": "stream",
     "text": [
      "Ready to begin?\n"
     ]
    },
    {
     "name": "stdout",
     "output_type": "stream",
     "text": [
      "- yes\n"
     ]
    },
    {
     "name": "stdout",
     "output_type": "stream",
     "text": [
      "Start\n",
      "2,4,8,10\n",
      "\n",
      "What is the fifth number?\n"
     ]
    },
    {
     "name": "stdout",
     "output_type": "stream",
     "text": [
      "- 12\n"
     ]
    },
    {
     "name": "stdout",
     "output_type": "stream",
     "text": [
      "12 is right\n"
     ]
    }
   ],
   "source": [
    "import random\n",
    "print('Ready to begin?')\n",
    "start = input('-')\n",
    "print('Start')\n",
    "\n",
    "list1 = [1]\n",
    "choice = random.choice(list1)\n",
    "\n",
    "if choice == 1:\n",
    "    print('2,4,8,10')\n",
    "    print('\\nWhat is the fifth number?')\n",
    "    answer = int(input('-'))\n",
    "    if answer == 12:\n",
    "        print('12 is right')\n",
    "    "
   ]
  },
  {
   "cell_type": "code",
   "execution_count": 26,
   "id": "ed5b3655-6507-4c71-87b8-31372130285a",
   "metadata": {},
   "outputs": [
    {
     "name": "stdout",
     "output_type": "stream",
     "text": [
      "Ready to begin?\n"
     ]
    },
    {
     "name": "stdout",
     "output_type": "stream",
     "text": [
      "- yes\n"
     ]
    },
    {
     "name": "stdout",
     "output_type": "stream",
     "text": [
      "Start\n",
      "10,20,30,40\n",
      "\n",
      "What is the fifth number?\n"
     ]
    },
    {
     "name": "stdout",
     "output_type": "stream",
     "text": [
      "- 50\n"
     ]
    },
    {
     "name": "stdout",
     "output_type": "stream",
     "text": [
      "50 is right\n"
     ]
    }
   ],
   "source": [
    "import random\n",
    "print('Ready to begin?')\n",
    "start = input('-')\n",
    "print('Start')\n",
    "\n",
    "list1 = [2]\n",
    "choice = random.choice(list1)\n",
    "\n",
    "if choice == 2:\n",
    "    print('10,20,30,40')\n",
    "    print('\\nWhat is the fifth number?')\n",
    "    answer = int(input('-'))\n",
    "    if answer == 50:\n",
    "        print('50 is right')\n",
    "    "
   ]
  },
  {
   "cell_type": "code",
   "execution_count": 24,
   "id": "0a9baad7-3918-4383-9801-7e253812572e",
   "metadata": {},
   "outputs": [
    {
     "name": "stdout",
     "output_type": "stream",
     "text": [
      "Ready to begin?\n"
     ]
    },
    {
     "name": "stdout",
     "output_type": "stream",
     "text": [
      "- yes\n"
     ]
    },
    {
     "name": "stdout",
     "output_type": "stream",
     "text": [
      "Start\n",
      "2,4,8,16\n",
      "\n",
      "What is the fifth number?\n"
     ]
    },
    {
     "name": "stdout",
     "output_type": "stream",
     "text": [
      "- 32\n"
     ]
    },
    {
     "name": "stdout",
     "output_type": "stream",
     "text": [
      "32 is right\n"
     ]
    }
   ],
   "source": [
    "import random\n",
    "print('Ready to begin?')\n",
    "start = input('-')\n",
    "print('Start')\n",
    "\n",
    "list1 = [3]\n",
    "choice = random.choice(list1)\n",
    "\n",
    "if choice == 3:\n",
    "    print('2,4,8,16')\n",
    "    print('\\nWhat is the fifth number?')\n",
    "    answer = int(input('-'))\n",
    "    if answer == 32:\n",
    "        print('32 is right')\n",
    "        "
   ]
  },
  {
   "cell_type": "markdown",
   "id": "7fcd425c-f302-42a6-9cec-926fddd9c98e",
   "metadata": {},
   "source": [
    "import random\n",
    "print('Ready to begin?')\n",
    "start = input('-')\n",
    "print('Start')\n",
    "\n",
    "list1 = [4]\n",
    "choice = random.choice(list1)\n",
    "\n",
    "if choice == 4:\n",
    "    print('1,2,4,8')\n",
    "    print('\\nWhat is the fifth number?')\n",
    "    answer = int(input('-'))\n",
    "    if answer == 16:\n",
    "        print('Correct the answer was 16')\n",
    "    else:\n",
    "        print('Sorry that is incorrect')"
   ]
  },
  {
   "cell_type": "code",
   "execution_count": 32,
   "id": "1206d303-3f20-4974-a602-bd46720b2280",
   "metadata": {},
   "outputs": [
    {
     "name": "stdout",
     "output_type": "stream",
     "text": [
      "Ready to begin?\n"
     ]
    },
    {
     "name": "stdout",
     "output_type": "stream",
     "text": [
      "- yes\n"
     ]
    },
    {
     "name": "stdout",
     "output_type": "stream",
     "text": [
      "Start\n",
      "25,50,75,100\n",
      "\n",
      "What is the fifth number?\n"
     ]
    },
    {
     "name": "stdout",
     "output_type": "stream",
     "text": [
      "- 125\n"
     ]
    },
    {
     "name": "stdout",
     "output_type": "stream",
     "text": [
      "125 is right\n"
     ]
    }
   ],
   "source": [
    "import random\n",
    "print('Ready to begin?')\n",
    "start = input('-')\n",
    "print('Start')\n",
    "\n",
    "list1 = [4]\n",
    "choice = random.choice(list1)\n",
    "\n",
    "if choice == 4:\n",
    "    print('25,50,75,100')\n",
    "    print('\\nWhat is the fifth number?')\n",
    "    answer = int(input('-'))\n",
    "    if answer == 125:\n",
    "        print('125 is right')\n",
    "    "
   ]
  },
  {
   "cell_type": "code",
   "execution_count": null,
   "id": "653a2193-c040-49e0-b9e0-df3f384dce54",
   "metadata": {},
   "outputs": [],
   "source": []
  }
 ],
 "metadata": {
  "kernelspec": {
   "display_name": "Python 3 (ipykernel)",
   "language": "python",
   "name": "python3"
  },
  "language_info": {
   "codemirror_mode": {
    "name": "ipython",
    "version": 3
   },
   "file_extension": ".py",
   "mimetype": "text/x-python",
   "name": "python",
   "nbconvert_exporter": "python",
   "pygments_lexer": "ipython3",
   "version": "3.9.7"
  }
 },
 "nbformat": 4,
 "nbformat_minor": 5
}
