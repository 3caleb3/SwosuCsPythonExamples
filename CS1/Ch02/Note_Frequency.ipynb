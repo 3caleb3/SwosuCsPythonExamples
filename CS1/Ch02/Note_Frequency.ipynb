{
 "cells": [
  {
   "cell_type": "code",
   "execution_count": 1,
   "id": "6f486196-1cb7-46d8-9900-9ab325c10eaa",
   "metadata": {},
   "outputs": [
    {
     "name": "stdout",
     "output_type": "stream",
     "text": [
      "Hello\n"
     ]
    }
   ],
   "source": [
    "print('Hello')"
   ]
  },
  {
   "cell_type": "code",
   "execution_count": 2,
   "id": "c65c4e85-d5a6-4744-8f1e-8363bf53379f",
   "metadata": {},
   "outputs": [
    {
     "name": "stdout",
     "output_type": "stream",
     "text": [
      "729.0\n"
     ]
    }
   ],
   "source": [
    "#https://www.w3schools.com/python/ref_math_pow.asp\n",
    "# Import math Library\n",
    "import math\n",
    "\n",
    "#Return the value of 9 raised to the power of 3\n",
    "print(math.pow(9, 3))"
   ]
  },
  {
   "cell_type": "code",
   "execution_count": null,
   "id": "bfd77200-c6bf-48f5-a220-452e2f1b6d58",
   "metadata": {},
   "outputs": [],
   "source": [
    "\"\"\"\n",
    "Find the note frequency. We are given F0. \n",
    "F(n) = F0 * r ^ n\n",
    "r = 2 ^ (1/12)\n",
    "440 466.16 493.88 523.25 554.37\n",
    "\"\"\""
   ]
  },
  {
   "cell_type": "code",
   "execution_count": 5,
   "id": "0dabca36-a547-48b1-8e51-6da8045ac432",
   "metadata": {},
   "outputs": [
    {
     "name": "stdout",
     "output_type": "stream",
     "text": [
      "our value for r is stored as the frequency step ratio, 1.0594630943592953\n",
      "Our base frequency is: 440.0.\n",
      "First note higher is: 466.1637615180899.\n"
     ]
    }
   ],
   "source": [
    "base_frequency = 440.00\n",
    "frequency_step_ratio = math.pow(2, (1/12))\n",
    "print(f'our value for r is stored as the frequency step ratio, {frequency_step_ratio}')\n",
    "\n",
    "note_higher_1 = base_frequency * frequency_step_ratio\n",
    "print(f'Our base frequency is: {base_frequency}.')\n",
    "print(f'First note higher is: {note_higher_1}.')\n",
    "print('{:.2f} {:.2f}'.format(base_frequency, note_higher_1))"
   ]
  },
  {
   "cell_type": "code",
   "execution_count": null,
   "id": "82d8fd89-e32b-4cfa-8d4c-73bb92719586",
   "metadata": {},
   "outputs": [],
   "source": []
  }
 ],
 "metadata": {
  "kernelspec": {
   "display_name": "Python 3 (ipykernel)",
   "language": "python",
   "name": "python3"
  },
  "language_info": {
   "codemirror_mode": {
    "name": "ipython",
    "version": 3
   },
   "file_extension": ".py",
   "mimetype": "text/x-python",
   "name": "python",
   "nbconvert_exporter": "python",
   "pygments_lexer": "ipython3",
   "version": "3.9.7"
  }
 },
 "nbformat": 4,
 "nbformat_minor": 5
}
