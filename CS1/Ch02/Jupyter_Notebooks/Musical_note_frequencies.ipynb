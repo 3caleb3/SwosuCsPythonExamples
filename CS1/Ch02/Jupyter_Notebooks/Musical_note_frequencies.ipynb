{
 "cells": [
  {
   "cell_type": "markdown",
   "id": "055c0087",
   "metadata": {},
   "source": [
    "#2) 2.16 LAB: Musical note frequencies\n",
    "\n",
    "On a piano, a key has a frequency, say f0. Each higher key (black or white) has a frequency of f0 * r^n, where n is the distance (number of keys) from that key, and r is 2^(1/12). Given an initial key frequency, output that frequency and the next 4 higher key frequencies.\n",
    "\n",
    "Output each floating-point value with two digits after the decimal point, which can be achieved as follows:\n",
    "print('{:.2f} {:.2f} {:.2f} {:.2f} {:.2f}'.format(your_value1, your_value2, your_value3, your_value4, your_value5))\n",
    "\n",
    "Ex: If the input is:\n",
    "\n",
    "440\n",
    "(which is the A key near the middle of a piano keyboard), the output is:\n",
    "\n",
    "440.00 466.16 493.88 523.25 554.37\n",
    "Note: Use one statement to compute r = 2^(1/12) using the pow function (remember to import the math module). Then use that r in subsequent statements that use the formula fn = f0 * r^n with n being 1, 2, 3, and finally 4.\n"
   ]
  },
  {
   "cell_type": "code",
   "execution_count": 2,
   "id": "7943993a",
   "metadata": {},
   "outputs": [
    {
     "name": "stdout",
     "output_type": "stream",
     "text": [
      "What is the your base frequency?440\n"
     ]
    }
   ],
   "source": [
    "base_frequency = float(input('What is the your base frequency?'))"
   ]
  },
  {
   "cell_type": "code",
   "execution_count": 3,
   "id": "1cab7fef",
   "metadata": {},
   "outputs": [
    {
     "name": "stdout",
     "output_type": "stream",
     "text": [
      "r has the value of 1.0594630943592953.\n"
     ]
    }
   ],
   "source": [
    "import math\n",
    "r = math.pow(2.0, (1.0/12.0))\n",
    "print(f'r has the value of {r}.')"
   ]
  },
  {
   "cell_type": "code",
   "execution_count": 4,
   "id": "5d75d17b",
   "metadata": {},
   "outputs": [
    {
     "name": "stdout",
     "output_type": "stream",
     "text": [
      "One key up is: 466.16\n"
     ]
    }
   ],
   "source": [
    "# fn = f0 * r^n, where n is the distance (number of keys) from that key, and r is 2^(1/12).\n",
    "one_key_up = base_frequency * (math.pow(r, 1))\n",
    "two_keys_up = base_frequency * (math.pow(r, 2))\n",
    "three_keys_up = base_frequency * (math.pow(r, 3))\n",
    "four_keys_up = base_frequency * (math.pow(r, 4))"
   ]
  },
  {
   "cell_type": "code",
   "execution_count": null,
   "id": "4ceb563a",
   "metadata": {},
   "outputs": [],
   "source": [
    "print('{:.2f} {:.2f} {:.2f} {:.2f} {:.2f}'.format(base_frequency, one_key_up, two_keys_up, three_keys_up, four_keys_up))"
   ]
  }
 ],
 "metadata": {
  "kernelspec": {
   "display_name": "Python 3 (ipykernel)",
   "language": "python",
   "name": "python3"
  },
  "language_info": {
   "codemirror_mode": {
    "name": "ipython",
    "version": 3
   },
   "file_extension": ".py",
   "mimetype": "text/x-python",
   "name": "python",
   "nbconvert_exporter": "python",
   "pygments_lexer": "ipython3",
   "version": "3.9.12"
  }
 },
 "nbformat": 4,
 "nbformat_minor": 5
}
