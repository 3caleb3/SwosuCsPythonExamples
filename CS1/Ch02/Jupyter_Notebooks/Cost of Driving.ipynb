{
 "cells": [
  {
   "cell_type": "markdown",
   "id": "50674818",
   "metadata": {},
   "source": [
    "#1) 2.13 LAB: Driving costs\n",
    "\n",
    "Driving is expensive. Write a program with a car's miles/gallon and gas dollars/gallon (both floats) as input, and output the gas cost for 20 miles, 75 miles, and 500 miles.\n",
    "\n",
    "Output each floating-point value with two digits after the decimal point, which can be achieved as follows:\n",
    "print('{:.2f} {:.2f} {:.2f}'.format(your_value1, your_value2, your_value3))\n",
    "\n",
    "Ex: If the input is:\n",
    "\n",
    "20.0\n",
    "3.1599\n",
    "Then the output is:\n",
    "\n",
    "3.16 11.85 79.00"
   ]
  },
  {
   "cell_type": "code",
   "execution_count": 7,
   "id": "52c3fb78",
   "metadata": {
    "scrolled": true
   },
   "outputs": [
    {
     "name": "stdout",
     "output_type": "stream",
     "text": [
      "Please input your car miles per gallon. 20.0\n",
      "you entered 20.0 miles per gallon.\n"
     ]
    }
   ],
   "source": [
    "car_miles_per_gallon = float(input('Please input your car miles per gallon. '))\n",
    "print(f'you entered {car_miles_per_gallon} miles per gallon.')"
   ]
  },
  {
   "cell_type": "code",
   "execution_count": 8,
   "id": "66534f34",
   "metadata": {},
   "outputs": [
    {
     "name": "stdout",
     "output_type": "stream",
     "text": [
      "Please input your gas dollars per gallon. 3.1599\n",
      "you entered $3.16 dollars per gallon.\n"
     ]
    }
   ],
   "source": [
    "gas_dollars_per_gallon = float(input(\"Please input your gas dollars per gallon. \"))\n",
    "print('you entered ', end = '')\n",
    "print('$' + format(gas_dollars_per_gallon, ',.2f'), end = '')\n",
    "print(' dollars per gallon.')"
   ]
  },
  {
   "cell_type": "code",
   "execution_count": 9,
   "id": "7f5946cf",
   "metadata": {},
   "outputs": [],
   "source": [
    "cost_for_20_mile_trip = (20.0 / car_miles_per_gallon) * gas_dollars_per_gallon\n",
    "cost_for_75_mile_trip = (75.0 / car_miles_per_gallon) * gas_dollars_per_gallon\n",
    "cost_for_500_mile_trip = (500.0 / car_miles_per_gallon) * gas_dollars_per_gallon"
   ]
  },
  {
   "cell_type": "code",
   "execution_count": 10,
   "id": "07d4da06",
   "metadata": {},
   "outputs": [
    {
     "name": "stdout",
     "output_type": "stream",
     "text": [
      "3.16 11.85 79.00\n"
     ]
    }
   ],
   "source": [
    "print('{:.2f} {:.2f} {:.2f}'.format(cost_for_20_mile_trip, cost_for_75_mile_trip, cost_for_500_mile_trip))"
   ]
  },
  {
   "cell_type": "code",
   "execution_count": null,
   "id": "ae05454e",
   "metadata": {},
   "outputs": [],
   "source": []
  }
 ],
 "metadata": {
  "kernelspec": {
   "display_name": "Python 3 (ipykernel)",
   "language": "python",
   "name": "python3"
  },
  "language_info": {
   "codemirror_mode": {
    "name": "ipython",
    "version": 3
   },
   "file_extension": ".py",
   "mimetype": "text/x-python",
   "name": "python",
   "nbconvert_exporter": "python",
   "pygments_lexer": "ipython3",
   "version": "3.9.12"
  }
 },
 "nbformat": 4,
 "nbformat_minor": 5
}
